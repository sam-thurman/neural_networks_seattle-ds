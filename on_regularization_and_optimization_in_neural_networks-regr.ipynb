{
 "cells": [
  {
   "cell_type": "markdown",
   "metadata": {},
   "source": [
    "# Regularization and Optimization in Neural Networks\n",
    "\n",
    "## Regularization of NNs\n",
    "\n",
    "Does regularization make sense in the context of neural networks? <br/>\n",
    "\n",
    "Yes! We still have all of the salient ingredients: a loss function, overfitting vs. underfitting, and coefficients (weights) that could get too large.\n",
    "\n",
    "But there are now a few different flavors besides L1 and L2 regularization. (Note that L1 regularization is not common in the context of  neural networks.)"
   ]
  },
  {
   "cell_type": "markdown",
   "metadata": {},
   "source": [
    "**After this lesson students will be able to**:\n",
    "- apply regularization to `keras` neural networks"
   ]
  },
  {
   "cell_type": "code",
   "execution_count": 1,
   "metadata": {},
   "outputs": [
    {
     "name": "stderr",
     "output_type": "stream",
     "text": [
      "Using TensorFlow backend.\n"
     ]
    }
   ],
   "source": [
    "import numpy as np\n",
    "import pandas as pd\n",
    "from sklearn.model_selection import train_test_split\n",
    "from sklearn.preprocessing import StandardScaler\n",
    "from keras.models import Sequential\n",
    "from keras.layers import Dense\n",
    "from matplotlib import pyplot as plt\n",
    "%matplotlib inline"
   ]
  },
  {
   "cell_type": "code",
   "execution_count": 2,
   "metadata": {},
   "outputs": [
    {
     "data": {
      "text/html": [
       "<div>\n",
       "<style scoped>\n",
       "    .dataframe tbody tr th:only-of-type {\n",
       "        vertical-align: middle;\n",
       "    }\n",
       "\n",
       "    .dataframe tbody tr th {\n",
       "        vertical-align: top;\n",
       "    }\n",
       "\n",
       "    .dataframe thead th {\n",
       "        text-align: right;\n",
       "    }\n",
       "</style>\n",
       "<table border=\"1\" class=\"dataframe\">\n",
       "  <thead>\n",
       "    <tr style=\"text-align: right;\">\n",
       "      <th></th>\n",
       "      <th>fixed acidity</th>\n",
       "      <th>volatile acidity</th>\n",
       "      <th>citric acid</th>\n",
       "      <th>residual sugar</th>\n",
       "      <th>chlorides</th>\n",
       "      <th>free sulfur dioxide</th>\n",
       "      <th>total sulfur dioxide</th>\n",
       "      <th>density</th>\n",
       "      <th>pH</th>\n",
       "      <th>sulphates</th>\n",
       "      <th>alcohol</th>\n",
       "      <th>quality</th>\n",
       "      <th>red_wine</th>\n",
       "    </tr>\n",
       "  </thead>\n",
       "  <tbody>\n",
       "    <tr>\n",
       "      <th>0</th>\n",
       "      <td>7.4</td>\n",
       "      <td>0.70</td>\n",
       "      <td>0.00</td>\n",
       "      <td>1.9</td>\n",
       "      <td>0.076</td>\n",
       "      <td>11.0</td>\n",
       "      <td>34.0</td>\n",
       "      <td>0.9978</td>\n",
       "      <td>3.51</td>\n",
       "      <td>0.56</td>\n",
       "      <td>9.4</td>\n",
       "      <td>5</td>\n",
       "      <td>1</td>\n",
       "    </tr>\n",
       "    <tr>\n",
       "      <th>1</th>\n",
       "      <td>7.8</td>\n",
       "      <td>0.88</td>\n",
       "      <td>0.00</td>\n",
       "      <td>2.6</td>\n",
       "      <td>0.098</td>\n",
       "      <td>25.0</td>\n",
       "      <td>67.0</td>\n",
       "      <td>0.9968</td>\n",
       "      <td>3.20</td>\n",
       "      <td>0.68</td>\n",
       "      <td>9.8</td>\n",
       "      <td>5</td>\n",
       "      <td>1</td>\n",
       "    </tr>\n",
       "    <tr>\n",
       "      <th>2</th>\n",
       "      <td>7.8</td>\n",
       "      <td>0.76</td>\n",
       "      <td>0.04</td>\n",
       "      <td>2.3</td>\n",
       "      <td>0.092</td>\n",
       "      <td>15.0</td>\n",
       "      <td>54.0</td>\n",
       "      <td>0.9970</td>\n",
       "      <td>3.26</td>\n",
       "      <td>0.65</td>\n",
       "      <td>9.8</td>\n",
       "      <td>5</td>\n",
       "      <td>1</td>\n",
       "    </tr>\n",
       "    <tr>\n",
       "      <th>3</th>\n",
       "      <td>11.2</td>\n",
       "      <td>0.28</td>\n",
       "      <td>0.56</td>\n",
       "      <td>1.9</td>\n",
       "      <td>0.075</td>\n",
       "      <td>17.0</td>\n",
       "      <td>60.0</td>\n",
       "      <td>0.9980</td>\n",
       "      <td>3.16</td>\n",
       "      <td>0.58</td>\n",
       "      <td>9.8</td>\n",
       "      <td>6</td>\n",
       "      <td>1</td>\n",
       "    </tr>\n",
       "    <tr>\n",
       "      <th>4</th>\n",
       "      <td>7.4</td>\n",
       "      <td>0.70</td>\n",
       "      <td>0.00</td>\n",
       "      <td>1.9</td>\n",
       "      <td>0.076</td>\n",
       "      <td>11.0</td>\n",
       "      <td>34.0</td>\n",
       "      <td>0.9978</td>\n",
       "      <td>3.51</td>\n",
       "      <td>0.56</td>\n",
       "      <td>9.4</td>\n",
       "      <td>5</td>\n",
       "      <td>1</td>\n",
       "    </tr>\n",
       "  </tbody>\n",
       "</table>\n",
       "</div>"
      ],
      "text/plain": [
       "   fixed acidity  volatile acidity  citric acid  residual sugar  chlorides  \\\n",
       "0            7.4              0.70         0.00             1.9      0.076   \n",
       "1            7.8              0.88         0.00             2.6      0.098   \n",
       "2            7.8              0.76         0.04             2.3      0.092   \n",
       "3           11.2              0.28         0.56             1.9      0.075   \n",
       "4            7.4              0.70         0.00             1.9      0.076   \n",
       "\n",
       "   free sulfur dioxide  total sulfur dioxide  density    pH  sulphates  \\\n",
       "0                 11.0                  34.0   0.9978  3.51       0.56   \n",
       "1                 25.0                  67.0   0.9968  3.20       0.68   \n",
       "2                 15.0                  54.0   0.9970  3.26       0.65   \n",
       "3                 17.0                  60.0   0.9980  3.16       0.58   \n",
       "4                 11.0                  34.0   0.9978  3.51       0.56   \n",
       "\n",
       "   alcohol  quality  red_wine  \n",
       "0      9.4        5         1  \n",
       "1      9.8        5         1  \n",
       "2      9.8        5         1  \n",
       "3      9.8        6         1  \n",
       "4      9.4        5         1  "
      ]
     },
     "execution_count": 2,
     "metadata": {},
     "output_type": "execute_result"
    }
   ],
   "source": [
    "wine = pd.read_csv('wine.csv')\n",
    "wine.head()"
   ]
  },
  {
   "cell_type": "code",
   "execution_count": 3,
   "metadata": {},
   "outputs": [],
   "source": [
    "X = wine.drop('quality', axis=1)\n",
    "y = wine.quality"
   ]
  },
  {
   "cell_type": "code",
   "execution_count": 4,
   "metadata": {},
   "outputs": [
    {
     "data": {
      "text/plain": [
       "6    2836\n",
       "5    2138\n",
       "7    1079\n",
       "4     216\n",
       "8     193\n",
       "3      30\n",
       "9       5\n",
       "Name: quality, dtype: int64"
      ]
     },
     "execution_count": 4,
     "metadata": {},
     "output_type": "execute_result"
    }
   ],
   "source": [
    "wine['quality'].value_counts()"
   ]
  },
  {
   "cell_type": "code",
   "execution_count": 5,
   "metadata": {
    "scrolled": true
   },
   "outputs": [],
   "source": [
    "X_train, X_test, y_train, y_test = train_test_split(X, y,\n",
    "                                                    random_state=11, stratify=y)\n",
    "ss = StandardScaler()\n",
    "X_train_s = ss.fit_transform(X_train).astype(np.int32)\n",
    "X_test_s = ss.transform(X_test).astype(np.int32)"
   ]
  },
  {
   "cell_type": "code",
   "execution_count": 6,
   "metadata": {},
   "outputs": [],
   "source": [
    "model = Sequential()\n",
    "\n",
    "n_input = X_train_s.shape[1]\n",
    "\n",
    "model.add(Dense(n_input, activation='relu'))\n",
    "model.add(Dense(1))"
   ]
  },
  {
   "cell_type": "code",
   "execution_count": 7,
   "metadata": {},
   "outputs": [],
   "source": [
    "model.compile(optimizer='adam', loss='mean_squared_error')"
   ]
  },
  {
   "cell_type": "markdown",
   "metadata": {},
   "source": [
    "By the way, here is a helpful blog post that goes carefully through a list of similarly-named different activation functions and loss functions: https://gombru.github.io/2018/05/23/cross_entropy_loss/"
   ]
  },
  {
   "cell_type": "code",
   "execution_count": 8,
   "metadata": {},
   "outputs": [
    {
     "name": "stdout",
     "output_type": "stream",
     "text": [
      "Train on 4872 samples, validate on 1625 samples\n",
      "Epoch 1/30\n",
      "4872/4872 [==============================] - 1s 156us/step - loss: 26.4716 - val_loss: 20.4544\n",
      "Epoch 2/30\n",
      "4872/4872 [==============================] - 0s 54us/step - loss: 15.5952 - val_loss: 11.9586\n",
      "Epoch 3/30\n",
      "4872/4872 [==============================] - 0s 52us/step - loss: 8.6224 - val_loss: 6.1012\n",
      "Epoch 4/30\n",
      "4872/4872 [==============================] - 0s 51us/step - loss: 4.3455 - val_loss: 3.0242\n",
      "Epoch 5/30\n",
      "4872/4872 [==============================] - 0s 53us/step - loss: 2.4244 - val_loss: 1.9715\n",
      "Epoch 6/30\n",
      "4872/4872 [==============================] - 0s 52us/step - loss: 1.7801 - val_loss: 1.5623\n",
      "Epoch 7/30\n",
      "4872/4872 [==============================] - 0s 52us/step - loss: 1.4616 - val_loss: 1.3125\n",
      "Epoch 8/30\n",
      "4872/4872 [==============================] - 0s 52us/step - loss: 1.2367 - val_loss: 1.1341\n",
      "Epoch 9/30\n",
      "4872/4872 [==============================] - 0s 52us/step - loss: 1.0673 - val_loss: 1.0008\n",
      "Epoch 10/30\n",
      "4872/4872 [==============================] - 0s 62us/step - loss: 0.9366 - val_loss: 0.8991\n",
      "Epoch 11/30\n",
      "4872/4872 [==============================] - 0s 56us/step - loss: 0.8397 - val_loss: 0.8267\n",
      "Epoch 12/30\n",
      "4872/4872 [==============================] - 0s 52us/step - loss: 0.7700 - val_loss: 0.7760\n",
      "Epoch 13/30\n",
      "4872/4872 [==============================] - 0s 56us/step - loss: 0.7183 - val_loss: 0.7415\n",
      "Epoch 14/30\n",
      "4872/4872 [==============================] - 0s 60us/step - loss: 0.6833 - val_loss: 0.7109\n",
      "Epoch 15/30\n",
      "4872/4872 [==============================] - 0s 54us/step - loss: 0.6562 - val_loss: 0.6919\n",
      "Epoch 16/30\n",
      "4872/4872 [==============================] - 0s 61us/step - loss: 0.6359 - val_loss: 0.6814\n",
      "Epoch 17/30\n",
      "4872/4872 [==============================] - 0s 61us/step - loss: 0.6221 - val_loss: 0.6691\n",
      "Epoch 18/30\n",
      "4872/4872 [==============================] - 0s 54us/step - loss: 0.6119 - val_loss: 0.6601\n",
      "Epoch 19/30\n",
      "4872/4872 [==============================] - 0s 55us/step - loss: 0.6044 - val_loss: 0.6573\n",
      "Epoch 20/30\n",
      "4872/4872 [==============================] - 0s 57us/step - loss: 0.5979 - val_loss: 0.6565\n",
      "Epoch 21/30\n",
      "4872/4872 [==============================] - 0s 55us/step - loss: 0.5930 - val_loss: 0.6516\n",
      "Epoch 22/30\n",
      "4872/4872 [==============================] - 0s 55us/step - loss: 0.5872 - val_loss: 0.6489\n",
      "Epoch 23/30\n",
      "4872/4872 [==============================] - 0s 62us/step - loss: 0.5851 - val_loss: 0.6430\n",
      "Epoch 24/30\n",
      "4872/4872 [==============================] - 0s 59us/step - loss: 0.5803 - val_loss: 0.6418\n",
      "Epoch 25/30\n",
      "4872/4872 [==============================] - 0s 57us/step - loss: 0.5770 - val_loss: 0.6353\n",
      "Epoch 26/30\n",
      "4872/4872 [==============================] - 0s 53us/step - loss: 0.5732 - val_loss: 0.6382\n",
      "Epoch 27/30\n",
      "4872/4872 [==============================] - 0s 54us/step - loss: 0.5731 - val_loss: 0.6303\n",
      "Epoch 28/30\n",
      "4872/4872 [==============================] - 0s 54us/step - loss: 0.5691 - val_loss: 0.6290\n",
      "Epoch 29/30\n",
      "4872/4872 [==============================] - 0s 55us/step - loss: 0.5668 - val_loss: 0.6258\n",
      "Epoch 30/30\n",
      "4872/4872 [==============================] - 0s 63us/step - loss: 0.5643 - val_loss: 0.6290\n"
     ]
    }
   ],
   "source": [
    "history = model.fit(X_train_s, np.array(y_train),\n",
    "                    validation_data=(X_test_s, np.array(y_test)),\n",
    "                   epochs=30, batch_size=None)"
   ]
  },
  {
   "cell_type": "code",
   "execution_count": 10,
   "metadata": {},
   "outputs": [
    {
     "name": "stdout",
     "output_type": "stream",
     "text": [
      "[array([[-1.12599246e-01, -1.74077660e-01,  2.84379929e-01,\n",
      "         5.52581362e-02, -2.54251510e-01, -3.35960716e-01,\n",
      "         3.58620375e-01,  3.44989538e-01, -1.21785700e-01,\n",
      "        -8.07107762e-02, -3.23474735e-01,  3.76110911e-01],\n",
      "       [ 2.94308841e-01,  4.12444562e-01, -1.76895306e-01,\n",
      "         3.21333349e-01, -7.61310995e-01,  4.01244074e-01,\n",
      "        -5.86226135e-02, -2.07400799e-01, -2.94445246e-01,\n",
      "         2.45363057e-01,  1.84001178e-01,  3.25376727e-02],\n",
      "       [ 2.50064701e-01, -3.68097201e-02,  3.40418994e-01,\n",
      "        -1.77289948e-01,  5.82485944e-02, -1.57122970e-01,\n",
      "         9.39202160e-02,  3.12114656e-02, -1.41905695e-01,\n",
      "        -2.44421542e-01,  4.24759716e-01, -3.17599446e-01],\n",
      "       [ 1.05016030e-01, -2.59168833e-01, -6.01588227e-02,\n",
      "         1.96789026e-01, -6.97315335e-02,  1.35341719e-01,\n",
      "         3.28703076e-01,  3.12912375e-01, -3.57852578e-01,\n",
      "        -3.88794482e-01, -4.12048735e-02,  4.91240650e-01],\n",
      "       [ 5.80800712e-01, -6.66700527e-02,  1.34898633e-01,\n",
      "         2.98281193e-01, -2.23180518e-01,  2.58778393e-01,\n",
      "         2.87336826e-01,  2.51139492e-01,  1.88532382e-01,\n",
      "        -1.70501113e-01, -3.64089757e-01, -3.81463230e-01],\n",
      "       [ 1.41561285e-01, -5.14357090e-01, -1.19322412e-01,\n",
      "         1.11776717e-01,  3.37345332e-01, -5.49161322e-02,\n",
      "         3.88669282e-01,  1.56716496e-01, -1.71088368e-01,\n",
      "         3.95952910e-01,  1.48272738e-01,  2.47117821e-02],\n",
      "       [ 1.97617486e-01, -3.90869737e-01, -1.59629006e-02,\n",
      "         3.07922930e-01,  3.92070055e-01, -3.02565753e-01,\n",
      "        -8.18392336e-02,  3.77666205e-01,  3.35126251e-01,\n",
      "         1.12209685e-01, -2.18058541e-01, -3.81286234e-01],\n",
      "       [ 1.67654306e-02, -2.35978276e-01, -1.94859043e-01,\n",
      "         2.03321815e-01,  2.51782000e-01, -4.06249076e-01,\n",
      "         5.45986854e-02,  1.54178794e-02,  2.15179652e-01,\n",
      "         1.31194770e-01, -2.15289533e-01, -6.00144342e-02],\n",
      "       [ 1.67285219e-01,  1.69707593e-02,  4.69635040e-01,\n",
      "         4.24832135e-01,  3.33182663e-01, -4.28364277e-01,\n",
      "         8.96080397e-04,  2.69229472e-01, -3.32127452e-01,\n",
      "         3.25551957e-01,  2.69087464e-01,  1.36031015e-02],\n",
      "       [ 2.64262944e-01, -2.70182371e-01,  2.34459415e-01,\n",
      "         4.62586731e-01, -6.36184663e-02, -4.00564253e-01,\n",
      "        -1.54483452e-01,  1.60571396e-01, -3.11018545e-02,\n",
      "        -2.08522648e-01, -5.11716753e-02,  4.86512572e-01],\n",
      "       [ 3.04281592e-01,  2.43633334e-02,  6.76437020e-01,\n",
      "        -1.49476547e-02, -2.83490121e-01, -7.11824968e-02,\n",
      "        -2.04068825e-01,  2.86664456e-01, -1.86595261e-01,\n",
      "         1.57028530e-02,  8.67544055e-01, -9.22389552e-02],\n",
      "       [ 1.48905665e-01,  3.71579289e-01, -1.04356569e-03,\n",
      "        -1.64667428e-01, -9.03903127e-01,  2.87287146e-01,\n",
      "        -1.79203346e-01,  1.36556104e-01,  6.96294755e-02,\n",
      "         9.27493200e-02,  3.03625554e-01,  2.56799966e-01]], dtype=float32), array([-0.16144408, -0.251774  ,  0.88146263,  0.84503603,  0.98898417,\n",
      "        0.9028047 ,  0.913369  , -0.21552852,  1.034808  , -0.23965164,\n",
      "        0.86736614,  0.96362567], dtype=float32)]\n",
      "[array([[-0.7127594 ],\n",
      "       [-0.57377577],\n",
      "       [ 0.80194306],\n",
      "       [ 0.45873767],\n",
      "       [ 0.53048587],\n",
      "       [ 0.8146749 ],\n",
      "       [ 0.6439485 ],\n",
      "       [-0.7806336 ],\n",
      "       [ 1.0359817 ],\n",
      "       [-0.473182  ],\n",
      "       [ 0.7978857 ],\n",
      "       [ 0.6174552 ]], dtype=float32), array([0.5356732], dtype=float32)]\n"
     ]
    }
   ],
   "source": [
    "for layer in model.layers:\n",
    "    print(layer.get_weights())"
   ]
  },
  {
   "cell_type": "code",
   "execution_count": 11,
   "metadata": {},
   "outputs": [
    {
     "data": {
      "image/png": "[encoded data removed]",
      "text/plain": [
       "<Figure size 432x288 with 1 Axes>"
      ]
     },
     "metadata": {
      "needs_background": "light"
     },
     "output_type": "display_data"
    }
   ],
   "source": [
    "plt.plot(history.history['loss'], label='Train loss')\n",
    "plt.plot(history.history['val_loss'], label='Test loss')\n",
    "plt.legend();"
   ]
  },
  {
   "cell_type": "code",
   "execution_count": 13,
   "metadata": {},
   "outputs": [
    {
     "data": {
      "text/plain": [
       "1006.8274645805359"
      ]
     },
     "execution_count": 13,
     "metadata": {},
     "output_type": "execute_result"
    }
   ],
   "source": [
    "# error across all data points\n",
    "sum(abs(np.array(model.predict(X_test_s).T) - np.array(y_test))[0])"
   ]
  },
  {
   "cell_type": "markdown",
   "metadata": {},
   "source": [
    "## Adding Regularization"
   ]
  },
  {
   "cell_type": "markdown",
   "metadata": {},
   "source": [
    "Here's a helpful review article on regularization techniques: https://towardsdatascience.com/regularization-in-machine-learning-connecting-the-dots-c6e030bfaddd"
   ]
  },
  {
   "cell_type": "code",
   "execution_count": 14,
   "metadata": {},
   "outputs": [],
   "source": [
    "from keras import regularizers"
   ]
  },
  {
   "cell_type": "code",
   "execution_count": 15,
   "metadata": {},
   "outputs": [
    {
     "data": {
      "text/plain": [
       "(4872, 12)"
      ]
     },
     "execution_count": 15,
     "metadata": {},
     "output_type": "execute_result"
    }
   ],
   "source": [
    "X_train.shape"
   ]
  },
  {
   "cell_type": "code",
   "execution_count": 16,
   "metadata": {},
   "outputs": [
    {
     "name": "stdout",
     "output_type": "stream",
     "text": [
      "Train on 4872 samples, validate on 1625 samples\n",
      "Epoch 1/42\n",
      "4872/4872 [==============================] - 1s 172us/step - loss: 34.4131 - val_loss: 28.7025\n",
      "Epoch 2/42\n",
      "4872/4872 [==============================] - 0s 57us/step - loss: 23.3219 - val_loss: 18.1363\n",
      "Epoch 3/42\n",
      "4872/4872 [==============================] - 0s 56us/step - loss: 13.6327 - val_loss: 9.8119\n",
      "Epoch 4/42\n",
      "4872/4872 [==============================] - 0s 58us/step - loss: 7.0286 - val_loss: 5.1048\n",
      "Epoch 5/42\n",
      "4872/4872 [==============================] - 0s 58us/step - loss: 4.0268 - val_loss: 3.3929\n",
      "Epoch 6/42\n",
      "4872/4872 [==============================] - 0s 56us/step - loss: 2.8949 - val_loss: 2.5816\n",
      "Epoch 7/42\n",
      "4872/4872 [==============================] - 0s 56us/step - loss: 2.2662 - val_loss: 2.0527\n",
      "Epoch 8/42\n",
      "4872/4872 [==============================] - 0s 59us/step - loss: 1.8339 - val_loss: 1.6798\n",
      "Epoch 9/42\n",
      "4872/4872 [==============================] - 0s 58us/step - loss: 1.5324 - val_loss: 1.4220\n",
      "Epoch 10/42\n",
      "4872/4872 [==============================] - 0s 56us/step - loss: 1.3139 - val_loss: 1.2397\n",
      "Epoch 11/42\n",
      "4872/4872 [==============================] - 0s 56us/step - loss: 1.1558 - val_loss: 1.1078\n",
      "Epoch 12/42\n",
      "4872/4872 [==============================] - 0s 56us/step - loss: 1.0465 - val_loss: 1.0154\n",
      "Epoch 13/42\n",
      "4872/4872 [==============================] - 0s 56us/step - loss: 0.9630 - val_loss: 0.9563\n",
      "Epoch 14/42\n",
      "4872/4872 [==============================] - 0s 56us/step - loss: 0.9041 - val_loss: 0.9029\n",
      "Epoch 15/42\n",
      "4872/4872 [==============================] - 0s 63us/step - loss: 0.8595 - val_loss: 0.8678\n",
      "Epoch 16/42\n",
      "4872/4872 [==============================] - 0s 57us/step - loss: 0.8248 - val_loss: 0.8423\n",
      "Epoch 17/42\n",
      "4872/4872 [==============================] - 0s 56us/step - loss: 0.7999 - val_loss: 0.8282\n",
      "Epoch 18/42\n",
      "4872/4872 [==============================] - 0s 55us/step - loss: 0.7824 - val_loss: 0.8086\n",
      "Epoch 19/42\n",
      "4872/4872 [==============================] - 0s 59us/step - loss: 0.7666 - val_loss: 0.8004\n",
      "Epoch 20/42\n",
      "4872/4872 [==============================] - 0s 55us/step - loss: 0.7552 - val_loss: 0.7888\n",
      "Epoch 21/42\n",
      "4872/4872 [==============================] - 0s 55us/step - loss: 0.7438 - val_loss: 0.7801\n",
      "Epoch 22/42\n",
      "4872/4872 [==============================] - 0s 56us/step - loss: 0.7350 - val_loss: 0.7715\n",
      "Epoch 23/42\n",
      "4872/4872 [==============================] - 0s 55us/step - loss: 0.7268 - val_loss: 0.7635\n",
      "Epoch 24/42\n",
      "4872/4872 [==============================] - 0s 56us/step - loss: 0.7195 - val_loss: 0.7569\n",
      "Epoch 25/42\n",
      "4872/4872 [==============================] - 0s 57us/step - loss: 0.7137 - val_loss: 0.7505\n",
      "Epoch 26/42\n",
      "4872/4872 [==============================] - 0s 58us/step - loss: 0.7067 - val_loss: 0.7430\n",
      "Epoch 27/42\n",
      "4872/4872 [==============================] - 0s 55us/step - loss: 0.7013 - val_loss: 0.7373\n",
      "Epoch 28/42\n",
      "4872/4872 [==============================] - 0s 55us/step - loss: 0.6959 - val_loss: 0.7348\n",
      "Epoch 29/42\n",
      "4872/4872 [==============================] - 0s 56us/step - loss: 0.6903 - val_loss: 0.7293\n",
      "Epoch 30/42\n",
      "4872/4872 [==============================] - 0s 58us/step - loss: 0.6866 - val_loss: 0.7240\n",
      "Epoch 31/42\n",
      "4872/4872 [==============================] - 0s 56us/step - loss: 0.6823 - val_loss: 0.7199\n",
      "Epoch 32/42\n",
      "4872/4872 [==============================] - 0s 55us/step - loss: 0.6787 - val_loss: 0.7202\n",
      "Epoch 33/42\n",
      "4872/4872 [==============================] - 0s 56us/step - loss: 0.6744 - val_loss: 0.7132\n",
      "Epoch 34/42\n",
      "4872/4872 [==============================] - 0s 56us/step - loss: 0.6715 - val_loss: 0.7109\n",
      "Epoch 35/42\n",
      "4872/4872 [==============================] - 0s 55us/step - loss: 0.6679 - val_loss: 0.7108\n",
      "Epoch 36/42\n",
      "4872/4872 [==============================] - 0s 57us/step - loss: 0.6657 - val_loss: 0.7054\n",
      "Epoch 37/42\n",
      "4872/4872 [==============================] - 0s 57us/step - loss: 0.6638 - val_loss: 0.7040\n",
      "Epoch 38/42\n",
      "4872/4872 [==============================] - 0s 57us/step - loss: 0.6593 - val_loss: 0.7031\n",
      "Epoch 39/42\n",
      "4872/4872 [==============================] - 0s 55us/step - loss: 0.6583 - val_loss: 0.6958\n",
      "Epoch 40/42\n",
      "4872/4872 [==============================] - 0s 55us/step - loss: 0.6565 - val_loss: 0.6975\n",
      "Epoch 41/42\n",
      "4872/4872 [==============================] - 0s 59us/step - loss: 0.6548 - val_loss: 0.6947\n",
      "Epoch 42/42\n",
      "4872/4872 [==============================] - 0s 56us/step - loss: 0.6523 - val_loss: 0.6929\n"
     ]
    }
   ],
   "source": [
    "model_r = Sequential()\n",
    "\n",
    "n_input = X_train_s.shape[1]\n",
    "\n",
    "model_r.add(Dense(n_input, activation='relu',\n",
    "                 kernel_regularizer=regularizers.l2(0.01)))\n",
    "model_r.add(Dense(1,\n",
    "                 kernel_regularizer=regularizers.l2(0.01)))\n",
    "\n",
    "model_r.compile(optimizer='adam', loss='mean_squared_error')\n",
    "\n",
    "history_r = model_r.fit(X_train_s, np.array(y_train),\n",
    "                        validation_data=(X_test_s, np.array(y_test)),\n",
    "                       epochs=42, batch_size=None)"
   ]
  },
  {
   "cell_type": "code",
   "execution_count": 17,
   "metadata": {},
   "outputs": [
    {
     "data": {
      "image/png": "[encoded data removed]",
      "text/plain": [
       "<Figure size 432x288 with 1 Axes>"
      ]
     },
     "metadata": {
      "needs_background": "light"
     },
     "output_type": "display_data"
    }
   ],
   "source": [
    "plt.plot(history_r.history['loss'], label='Training loss')\n",
    "plt.plot(history_r.history['val_loss'], label='Testing loss')\n",
    "plt.legend();"
   ]
  },
  {
   "cell_type": "markdown",
   "metadata": {},
   "source": [
    "#### Examining Our Predictions"
   ]
  },
  {
   "cell_type": "code",
   "execution_count": 23,
   "metadata": {},
   "outputs": [
    {
     "data": {
      "text/plain": [
       "array([[5.46],\n",
       "       [5.56],\n",
       "       [4.55],\n",
       "       [5.78],\n",
       "       [4.78],\n",
       "       [5.83],\n",
       "       [5.89],\n",
       "       [4.78],\n",
       "       [5.58],\n",
       "       [5.8 ]], dtype=float32)"
      ]
     },
     "execution_count": 23,
     "metadata": {},
     "output_type": "execute_result"
    }
   ],
   "source": [
    "# preds for x test\n",
    "model_r.predict(X_test_s[:10]).round(2)"
   ]
  },
  {
   "cell_type": "code",
   "execution_count": 24,
   "metadata": {},
   "outputs": [
    {
     "data": {
      "text/plain": [
       "930     5\n",
       "143     5\n",
       "1037    5\n",
       "4212    5\n",
       "1032    5\n",
       "5236    7\n",
       "4651    7\n",
       "4       5\n",
       "1091    6\n",
       "1536    6\n",
       "Name: quality, dtype: int64"
      ]
     },
     "execution_count": 24,
     "metadata": {},
     "output_type": "execute_result"
    }
   ],
   "source": [
    "y_test[:10]"
   ]
  },
  {
   "cell_type": "code",
   "execution_count": 25,
   "metadata": {},
   "outputs": [
    {
     "data": {
      "text/plain": [
       "array([[5.4638777, 5.5574923, 4.5481114, ..., 6.0093517, 5.0895367,\n",
       "        6.1268616]], dtype=float32)"
      ]
     },
     "execution_count": 25,
     "metadata": {},
     "output_type": "execute_result"
    }
   ],
   "source": [
    "model_r.predict(X_test_s).T"
   ]
  },
  {
   "cell_type": "code",
   "execution_count": 26,
   "metadata": {},
   "outputs": [
    {
     "data": {
      "text/plain": [
       "array([ 0.46387768,  0.55749226, -0.45188856, ...,  1.00935173,\n",
       "        0.08953667,  0.12686157])"
      ]
     },
     "execution_count": 26,
     "metadata": {},
     "output_type": "execute_result"
    }
   ],
   "source": [
    "(np.array(model_r.predict(X_test_s).T) - np.array(y_test))[0]"
   ]
  },
  {
   "cell_type": "code",
   "execution_count": 28,
   "metadata": {},
   "outputs": [
    {
     "data": {
      "text/plain": [
       "994.7032942771912"
      ]
     },
     "execution_count": 28,
     "metadata": {},
     "output_type": "execute_result"
    }
   ],
   "source": [
    "# get error across datapoints\n",
    "sum(abs(np.array(model_r.predict(X_test_s).T) - np.array(y_test))[0])"
   ]
  },
  {
   "cell_type": "markdown",
   "metadata": {},
   "source": [
    "### Dropout"
   ]
  },
  {
   "cell_type": "markdown",
   "metadata": {},
   "source": [
    "Here's a new regularization idea: Turn some neurons off during training. We'll assign probabilities of 'dropout' and then let fate decide.\n",
    "\n",
    "$\\rightarrow$ Why is this a good idea? *Is* it a good idea?\n",
    "\n",
    "Yes it is a good idea! We don't want the network to get overly trained on certain paths, so we are going to make some paths unavailable.\n",
    "\n",
    "Was this sort of regularization available to us before? Why (not)?"
   ]
  },
  {
   "cell_type": "code",
   "execution_count": 31,
   "metadata": {},
   "outputs": [],
   "source": [
    "from keras.layers import Dropout"
   ]
  },
  {
   "cell_type": "code",
   "execution_count": 32,
   "metadata": {},
   "outputs": [
    {
     "name": "stdout",
     "output_type": "stream",
     "text": [
      "Train on 4872 samples, validate on 1625 samples\n",
      "Epoch 1/42\n",
      "4872/4872 [==============================] - 1s 195us/step - loss: 23.4250 - val_loss: 17.5594\n",
      "Epoch 2/42\n",
      "4872/4872 [==============================] - 0s 67us/step - loss: 13.8619 - val_loss: 9.1266\n",
      "Epoch 3/42\n",
      "4872/4872 [==============================] - 0s 69us/step - loss: 7.7128 - val_loss: 4.6726\n",
      "Epoch 4/42\n",
      "4872/4872 [==============================] - 0s 67us/step - loss: 5.2941 - val_loss: 2.9883\n",
      "Epoch 5/42\n",
      "4872/4872 [==============================] - 0s 65us/step - loss: 4.3863 - val_loss: 2.3263\n",
      "Epoch 6/42\n",
      "4872/4872 [==============================] - 0s 66us/step - loss: 3.5602 - val_loss: 1.9023\n",
      "Epoch 7/42\n",
      "4872/4872 [==============================] - 0s 66us/step - loss: 3.3025 - val_loss: 1.6391\n",
      "Epoch 8/42\n",
      "4872/4872 [==============================] - 0s 69us/step - loss: 3.0213 - val_loss: 1.3919\n",
      "Epoch 9/42\n",
      "4872/4872 [==============================] - 0s 72us/step - loss: 2.6248 - val_loss: 1.1923\n",
      "Epoch 10/42\n",
      "4872/4872 [==============================] - 0s 65us/step - loss: 2.5330 - val_loss: 1.0734\n",
      "Epoch 11/42\n",
      "4872/4872 [==============================] - 0s 67us/step - loss: 2.2983 - val_loss: 0.9691\n",
      "Epoch 12/42\n",
      "4872/4872 [==============================] - 0s 70us/step - loss: 2.1517 - val_loss: 0.8893\n",
      "Epoch 13/42\n",
      "4872/4872 [==============================] - 0s 64us/step - loss: 2.0758 - val_loss: 0.8448\n",
      "Epoch 14/42\n",
      "4872/4872 [==============================] - 0s 66us/step - loss: 1.9921 - val_loss: 0.7963\n",
      "Epoch 15/42\n",
      "4872/4872 [==============================] - 0s 65us/step - loss: 1.8689 - val_loss: 0.7598\n",
      "Epoch 16/42\n",
      "4872/4872 [==============================] - 0s 64us/step - loss: 1.8106 - val_loss: 0.7289\n",
      "Epoch 17/42\n",
      "4872/4872 [==============================] - 0s 63us/step - loss: 1.7165 - val_loss: 0.7254\n",
      "Epoch 18/42\n",
      "4872/4872 [==============================] - 0s 66us/step - loss: 1.6372 - val_loss: 0.7282\n",
      "Epoch 19/42\n",
      "4872/4872 [==============================] - 0s 65us/step - loss: 1.6215 - val_loss: 0.6774\n",
      "Epoch 20/42\n",
      "4872/4872 [==============================] - 0s 65us/step - loss: 1.6266 - val_loss: 0.6734\n",
      "Epoch 21/42\n",
      "4872/4872 [==============================] - 0s 67us/step - loss: 1.5845 - val_loss: 0.6512\n",
      "Epoch 22/42\n",
      "4872/4872 [==============================] - 0s 66us/step - loss: 1.5335 - val_loss: 0.6570\n",
      "Epoch 23/42\n",
      "4872/4872 [==============================] - 0s 64us/step - loss: 1.4370 - val_loss: 0.6492\n",
      "Epoch 24/42\n",
      "4872/4872 [==============================] - 0s 63us/step - loss: 1.4538 - val_loss: 0.6551\n",
      "Epoch 25/42\n",
      "4872/4872 [==============================] - 0s 62us/step - loss: 1.4089 - val_loss: 0.6583\n",
      "Epoch 26/42\n",
      "4872/4872 [==============================] - 0s 63us/step - loss: 1.3708 - val_loss: 0.6432\n",
      "Epoch 27/42\n",
      "4872/4872 [==============================] - 0s 63us/step - loss: 1.3880 - val_loss: 0.6359\n",
      "Epoch 28/42\n",
      "4872/4872 [==============================] - 0s 64us/step - loss: 1.3163 - val_loss: 0.6385\n",
      "Epoch 29/42\n",
      "4872/4872 [==============================] - 0s 62us/step - loss: 1.2683 - val_loss: 0.6510\n",
      "Epoch 30/42\n",
      "4872/4872 [==============================] - 0s 62us/step - loss: 1.2079 - val_loss: 0.6388\n",
      "Epoch 31/42\n",
      "4872/4872 [==============================] - 0s 63us/step - loss: 1.2097 - val_loss: 0.6377\n",
      "Epoch 32/42\n",
      "4872/4872 [==============================] - 0s 65us/step - loss: 1.2170 - val_loss: 0.6245\n",
      "Epoch 33/42\n",
      "4872/4872 [==============================] - 0s 64us/step - loss: 1.1631 - val_loss: 0.6259\n",
      "Epoch 34/42\n",
      "4872/4872 [==============================] - 0s 63us/step - loss: 1.1733 - val_loss: 0.6234\n",
      "Epoch 35/42\n",
      "4872/4872 [==============================] - 0s 61us/step - loss: 1.1608 - val_loss: 0.6257\n",
      "Epoch 36/42\n",
      "4872/4872 [==============================] - 0s 62us/step - loss: 1.1026 - val_loss: 0.6300\n",
      "Epoch 37/42\n",
      "4872/4872 [==============================] - 0s 63us/step - loss: 1.0781 - val_loss: 0.6198\n",
      "Epoch 38/42\n",
      "4872/4872 [==============================] - 0s 63us/step - loss: 1.1055 - val_loss: 0.6236\n",
      "Epoch 39/42\n",
      "4872/4872 [==============================] - 0s 62us/step - loss: 1.0757 - val_loss: 0.6298\n",
      "Epoch 40/42\n",
      "4872/4872 [==============================] - 0s 62us/step - loss: 1.0264 - val_loss: 0.6241\n",
      "Epoch 41/42\n",
      "4872/4872 [==============================] - 0s 63us/step - loss: 1.0321 - val_loss: 0.6115\n",
      "Epoch 42/42\n",
      "4872/4872 [==============================] - 0s 62us/step - loss: 0.9963 - val_loss: 0.6197\n"
     ]
    }
   ],
   "source": [
    "model_d = Sequential()\n",
    "\n",
    "n_input = X_train_s.shape[1]\n",
    "\n",
    "model_d.add(Dense(n_input, activation='relu'))\n",
    "# droupout will apply to this ^^ hidden layer (whichever layer the dropout was added after)\n",
    "model_d.add(Dropout(0.2))\n",
    "model_d.add(Dense(1))\n",
    "\n",
    "model_d.compile(optimizer='adam', loss='mean_squared_error')\n",
    "\n",
    "history_d = model_d.fit(X_train_s, np.array(y_train),\n",
    "                        validation_data=(X_test_s, np.array(y_test)),\n",
    "                        epochs=42, batch_size=None)"
   ]
  },
  {
   "cell_type": "code",
   "execution_count": 33,
   "metadata": {},
   "outputs": [
    {
     "data": {
      "image/png": "[encoded data removed]",
      "text/plain": [
       "<Figure size 432x288 with 1 Axes>"
      ]
     },
     "metadata": {
      "needs_background": "light"
     },
     "output_type": "display_data"
    }
   ],
   "source": [
    "plt.plot(history_d.history['loss'], label='Training loss')\n",
    "plt.plot(history_d.history['val_loss'], label='Testing loss')\n",
    "plt.legend();"
   ]
  },
  {
   "cell_type": "code",
   "execution_count": 34,
   "metadata": {},
   "outputs": [
    {
     "data": {
      "text/plain": [
       "1004.6187953948975"
      ]
     },
     "execution_count": 34,
     "metadata": {},
     "output_type": "execute_result"
    }
   ],
   "source": [
    "sum(abs(np.array(model_d.predict(X_test_s).T) - np.array(y_test))[0])"
   ]
  },
  {
   "cell_type": "markdown",
   "metadata": {},
   "source": [
    "### Early Stopping"
   ]
  },
  {
   "cell_type": "markdown",
   "metadata": {},
   "source": [
    "Another idea is to try to terminate the training process early, even before some pre-specified number of epochs.\n",
    "\n",
    "$\\rightarrow$ Why is this a good idea? *Is* it a good idea?\n",
    "\n",
    "Was this sort of regularization available to us before? Why (not)?"
   ]
  },
  {
   "cell_type": "code",
   "execution_count": 35,
   "metadata": {},
   "outputs": [],
   "source": [
    "from keras.callbacks import EarlyStopping"
   ]
  },
  {
   "cell_type": "code",
   "execution_count": 36,
   "metadata": {},
   "outputs": [
    {
     "name": "stdout",
     "output_type": "stream",
     "text": [
      "Train on 4872 samples, validate on 1625 samples\n",
      "Epoch 1/40\n",
      "4872/4872 [==============================] - 1s 150us/step - loss: 29.8257 - val_loss: 22.6168\n",
      "Epoch 2/40\n",
      "4872/4872 [==============================] - 0s 52us/step - loss: 16.7718 - val_loss: 11.6570\n",
      "Epoch 3/40\n",
      "4872/4872 [==============================] - 0s 53us/step - loss: 8.0205 - val_loss: 5.2263\n",
      "Epoch 4/40\n",
      "4872/4872 [==============================] - 0s 56us/step - loss: 3.8455 - val_loss: 2.9321\n",
      "Epoch 5/40\n",
      "4872/4872 [==============================] - 0s 55us/step - loss: 2.4987 - val_loss: 2.2066\n",
      "Epoch 6/40\n",
      "4872/4872 [==============================] - 0s 56us/step - loss: 1.9421 - val_loss: 1.7951\n",
      "Epoch 7/40\n",
      "4872/4872 [==============================] - 0s 54us/step - loss: 1.5932 - val_loss: 1.5019\n",
      "Epoch 8/40\n",
      "4872/4872 [==============================] - 0s 60us/step - loss: 1.3438 - val_loss: 1.2789\n",
      "Epoch 9/40\n",
      "4872/4872 [==============================] - 0s 55us/step - loss: 1.1527 - val_loss: 1.1063\n",
      "Epoch 10/40\n",
      "4872/4872 [==============================] - 0s 53us/step - loss: 1.0068 - val_loss: 0.9801\n",
      "Epoch 11/40\n",
      "4872/4872 [==============================] - 0s 55us/step - loss: 0.8964 - val_loss: 0.8835\n",
      "Epoch 12/40\n",
      "4872/4872 [==============================] - 0s 53us/step - loss: 0.8106 - val_loss: 0.8073\n",
      "Epoch 13/40\n",
      "4872/4872 [==============================] - 0s 56us/step - loss: 0.7491 - val_loss: 0.7584\n",
      "Epoch 14/40\n",
      "4872/4872 [==============================] - 0s 54us/step - loss: 0.7039 - val_loss: 0.7200\n",
      "Epoch 15/40\n",
      "4872/4872 [==============================] - 0s 54us/step - loss: 0.6721 - val_loss: 0.6962\n",
      "Epoch 16/40\n",
      "4872/4872 [==============================] - 0s 53us/step - loss: 0.6460 - val_loss: 0.6744\n",
      "Epoch 17/40\n",
      "4872/4872 [==============================] - 0s 53us/step - loss: 0.6281 - val_loss: 0.6604\n",
      "Epoch 18/40\n",
      "4872/4872 [==============================] - 0s 53us/step - loss: 0.6141 - val_loss: 0.6507\n",
      "Epoch 19/40\n",
      "4872/4872 [==============================] - 0s 55us/step - loss: 0.6026 - val_loss: 0.6369\n",
      "Epoch 20/40\n",
      "4872/4872 [==============================] - 0s 54us/step - loss: 0.5935 - val_loss: 0.6332\n",
      "Epoch 21/40\n",
      "4872/4872 [==============================] - 0s 53us/step - loss: 0.5867 - val_loss: 0.6288\n",
      "Epoch 22/40\n",
      "4872/4872 [==============================] - 0s 53us/step - loss: 0.5802 - val_loss: 0.6277\n",
      "Epoch 23/40\n",
      "4872/4872 [==============================] - 0s 54us/step - loss: 0.5758 - val_loss: 0.6209\n",
      "Epoch 24/40\n",
      "4872/4872 [==============================] - 0s 54us/step - loss: 0.5703 - val_loss: 0.6129\n",
      "Epoch 25/40\n",
      "4872/4872 [==============================] - 0s 53us/step - loss: 0.5659 - val_loss: 0.6133\n",
      "Epoch 00025: early stopping\n"
     ]
    }
   ],
   "source": [
    "model_es = Sequential()\n",
    "\n",
    "n_input = X_train_s.shape[1]\n",
    "n_hidden = n_input\n",
    "\n",
    "model_es.add(Dense(n_hidden, input_dim=n_input, activation='relu'))\n",
    "model_es.add(Dense(1))\n",
    "\n",
    "model_es.compile(optimizer='adam', loss='mean_squared_error')\n",
    "                        # look at val_loss    \n",
    "                        # if it stops going down more than (patience number of times), stop running epochs \n",
    "early_stop = EarlyStopping(monitor='val_loss', min_delta=1e-08, patience=0, verbose=1,\n",
    "                           mode='auto')\n",
    "\n",
    "callbacks_list = [early_stop]\n",
    "\n",
    "history_es = model_es.fit(X_train_s, np.array(y_train),\n",
    "                          validation_data=(X_test_s, np.array(y_test)),\n",
    "                         epochs=40, batch_size=None, callbacks=callbacks_list)"
   ]
  },
  {
   "cell_type": "code",
   "execution_count": 37,
   "metadata": {},
   "outputs": [
    {
     "data": {
      "image/png": "[encoded data removed]",
      "text/plain": [
       "<Figure size 432x288 with 1 Axes>"
      ]
     },
     "metadata": {
      "needs_background": "light"
     },
     "output_type": "display_data"
    }
   ],
   "source": [
    "plt.plot(history_es.history['loss'], label='Training loss')\n",
    "plt.plot(history_es.history['val_loss'], label='Testing loss')\n",
    "plt.legend();"
   ]
  },
  {
   "cell_type": "code",
   "execution_count": 38,
   "metadata": {},
   "outputs": [
    {
     "data": {
      "text/plain": [
       "989.1138563156128"
      ]
     },
     "execution_count": 38,
     "metadata": {},
     "output_type": "execute_result"
    }
   ],
   "source": [
    "sum(abs(np.array(model_es.predict(X_test_s).T) - np.array(y_test))[0])"
   ]
  },
  {
   "cell_type": "markdown",
   "metadata": {},
   "source": [
    "## Exercise"
   ]
  },
  {
   "cell_type": "markdown",
   "metadata": {},
   "source": [
    "Build your own network *with some sort of regularization built in* to predict digits using sklearn's `load_digits` dataset!\n",
    "\n",
    "The imports you need are in the next cell.\n",
    "\n",
    "Here are a couple hints and leading questions:\n",
    "\n",
    "1. You'll need to use `to_categorical()` on your target. (What does this function do?)\n",
    "2. What should your output layer look like? How many neurons should it have and what should your activation function be there?\n",
    "3. When we compile this network, what loss function should we use?\n",
    "4. When we compile this network, we can add a list of metrics, such as `['acc']`."
   ]
  },
  {
   "cell_type": "code",
   "execution_count": 40,
   "metadata": {},
   "outputs": [],
   "source": [
    "from sklearn.datasets import load_digits\n",
    "from keras.utils import to_categorical"
   ]
  },
  {
   "cell_type": "code",
   "execution_count": 42,
   "metadata": {},
   "outputs": [
    {
     "name": "stdout",
     "output_type": "stream",
     "text": [
      "[[ 0.  0.  5. ...  0.  0.  0.]\n",
      " [ 0.  0.  0. ... 10.  0.  0.]\n",
      " [ 0.  0.  0. ... 16.  9.  0.]\n",
      " ...\n",
      " [ 0.  0.  1. ...  6.  0.  0.]\n",
      " [ 0.  0.  2. ... 12.  0.  0.]\n",
      " [ 0.  0. 10. ... 12.  1.  0.]]\n",
      "[0 1 2 ... 8 9 8]\n",
      ".. _digits_dataset:\n",
      "\n",
      "Optical recognition of handwritten digits dataset\n",
      "--------------------------------------------------\n",
      "\n",
      "**Data Set Characteristics:**\n",
      "\n",
      "    :Number of Instances: 5620\n",
      "    :Number of Attributes: 64\n",
      "    :Attribute Information: 8x8 image of integer pixels in the range 0..16.\n",
      "    :Missing Attribute Values: None\n",
      "    :Creator: E. Alpaydin (alpaydin '@' boun.edu.tr)\n",
      "    :Date: July; 1998\n",
      "\n",
      "This is a copy of the test set of the UCI ML hand-written digits datasets\n",
      "https://archive.ics.uci.edu/ml/datasets/Optical+Recognition+of+Handwritten+Digits\n",
      "\n",
      "The data set contains images of hand-written digits: 10 classes where\n",
      "each class refers to a digit.\n",
      "\n",
      "Preprocessing programs made available by NIST were used to extract\n",
      "normalized bitmaps of handwritten digits from a preprinted form. From a\n",
      "total of 43 people, 30 contributed to the training set and different 13\n",
      "to the test set. 32x32 bitmaps are divided into nonoverlapping blocks of\n",
      "4x4 and the number of on pixels are counted in each block. This generates\n",
      "an input matrix of 8x8 where each element is an integer in the range\n",
      "0..16. This reduces dimensionality and gives invariance to small\n",
      "distortions.\n",
      "\n",
      "For info on NIST preprocessing routines, see M. D. Garris, J. L. Blue, G.\n",
      "T. Candela, D. L. Dimmick, J. Geist, P. J. Grother, S. A. Janet, and C.\n",
      "L. Wilson, NIST Form-Based Handprint Recognition System, NISTIR 5469,\n",
      "1994.\n",
      "\n",
      ".. topic:: References\n",
      "\n",
      "  - C. Kaynak (1995) Methods of Combining Multiple Classifiers and Their\n",
      "    Applications to Handwritten Digit Recognition, MSc Thesis, Institute of\n",
      "    Graduate Studies in Science and Engineering, Bogazici University.\n",
      "  - E. Alpaydin, C. Kaynak (1998) Cascading Classifiers, Kybernetika.\n",
      "  - Ken Tang and Ponnuthurai N. Suganthan and Xi Yao and A. Kai Qin.\n",
      "    Linear dimensionalityreduction using relevance weighted LDA. School of\n",
      "    Electrical and Electronic Engineering Nanyang Technological University.\n",
      "    2005.\n",
      "  - Claudio Gentile. A New Approximate Maximal Margin Classification\n",
      "    Algorithm. NIPS. 2000.\n"
     ]
    }
   ],
   "source": [
    "data = load_digits()\n",
    "print(data.data)\n",
    "print(data.target)\n",
    "print(data.DESCR)\n",
    "X = data.data\n",
    "y = data.target"
   ]
  },
  {
   "cell_type": "code",
   "execution_count": 49,
   "metadata": {},
   "outputs": [
    {
     "data": {
      "text/plain": [
       "array([3, 0, 9, ..., 2, 8, 4])"
      ]
     },
     "execution_count": 49,
     "metadata": {},
     "output_type": "execute_result"
    }
   ],
   "source": [
    "X_train, X_test, y_train, y_test = train_test_split(X,y, stratify=y)\n",
    "ss = StandardScaler()\n",
    "X_train = ss.fit_transform(X_train)\n",
    "X_test = ss.transform(X_test)\n",
    "y_train_c = to_categorical(y_train)\n",
    "y_test_c = to_categorical(y_test)\n",
    "y_train"
   ]
  },
  {
   "cell_type": "code",
   "execution_count": 55,
   "metadata": {},
   "outputs": [
    {
     "ename": "ValueError",
     "evalue": "Error when checking input: expected dense_21_input to have shape (12,) but got array with shape (64,)",
     "output_type": "error",
     "traceback": [
      "\u001b[0;31m---------------------------------------------------------------------------\u001b[0m",
      "\u001b[0;31mValueError\u001b[0m                                Traceback (most recent call last)",
      "\u001b[0;32m<ipython-input-55-b9bb54a3e4ae>\u001b[0m in \u001b[0;36m<module>\u001b[0;34m\u001b[0m\n\u001b[1;32m     13\u001b[0m history = model.fit(X_train, np.array(y_train_c),\n\u001b[1;32m     14\u001b[0m                         \u001b[0mvalidation_data\u001b[0m\u001b[0;34m=\u001b[0m\u001b[0;34m(\u001b[0m\u001b[0mX_test_s\u001b[0m\u001b[0;34m,\u001b[0m \u001b[0mnp\u001b[0m\u001b[0;34m.\u001b[0m\u001b[0marray\u001b[0m\u001b[0;34m(\u001b[0m\u001b[0my_test_c\u001b[0m\u001b[0;34m)\u001b[0m\u001b[0;34m)\u001b[0m\u001b[0;34m,\u001b[0m\u001b[0;34m\u001b[0m\u001b[0;34m\u001b[0m\u001b[0m\n\u001b[0;32m---> 15\u001b[0;31m                         epochs=30, batch_size=None, callbacks=callbacks_list)\n\u001b[0m",
      "\u001b[0;32m~/opt/anaconda3/envs/learn-env/lib/python3.6/site-packages/keras/engine/training.py\u001b[0m in \u001b[0;36mfit\u001b[0;34m(self, x, y, batch_size, epochs, verbose, callbacks, validation_split, validation_data, shuffle, class_weight, sample_weight, initial_epoch, steps_per_epoch, validation_steps, validation_freq, max_queue_size, workers, use_multiprocessing, **kwargs)\u001b[0m\n\u001b[1;32m   1152\u001b[0m             \u001b[0msample_weight\u001b[0m\u001b[0;34m=\u001b[0m\u001b[0msample_weight\u001b[0m\u001b[0;34m,\u001b[0m\u001b[0;34m\u001b[0m\u001b[0;34m\u001b[0m\u001b[0m\n\u001b[1;32m   1153\u001b[0m             \u001b[0mclass_weight\u001b[0m\u001b[0;34m=\u001b[0m\u001b[0mclass_weight\u001b[0m\u001b[0;34m,\u001b[0m\u001b[0;34m\u001b[0m\u001b[0;34m\u001b[0m\u001b[0m\n\u001b[0;32m-> 1154\u001b[0;31m             batch_size=batch_size)\n\u001b[0m\u001b[1;32m   1155\u001b[0m \u001b[0;34m\u001b[0m\u001b[0m\n\u001b[1;32m   1156\u001b[0m         \u001b[0;31m# Prepare validation data.\u001b[0m\u001b[0;34m\u001b[0m\u001b[0;34m\u001b[0m\u001b[0;34m\u001b[0m\u001b[0m\n",
      "\u001b[0;32m~/opt/anaconda3/envs/learn-env/lib/python3.6/site-packages/keras/engine/training.py\u001b[0m in \u001b[0;36m_standardize_user_data\u001b[0;34m(self, x, y, sample_weight, class_weight, check_array_lengths, batch_size)\u001b[0m\n\u001b[1;32m    577\u001b[0m             \u001b[0mfeed_input_shapes\u001b[0m\u001b[0;34m,\u001b[0m\u001b[0;34m\u001b[0m\u001b[0;34m\u001b[0m\u001b[0m\n\u001b[1;32m    578\u001b[0m             \u001b[0mcheck_batch_axis\u001b[0m\u001b[0;34m=\u001b[0m\u001b[0;32mFalse\u001b[0m\u001b[0;34m,\u001b[0m  \u001b[0;31m# Don't enforce the batch size.\u001b[0m\u001b[0;34m\u001b[0m\u001b[0;34m\u001b[0m\u001b[0m\n\u001b[0;32m--> 579\u001b[0;31m             exception_prefix='input')\n\u001b[0m\u001b[1;32m    580\u001b[0m \u001b[0;34m\u001b[0m\u001b[0m\n\u001b[1;32m    581\u001b[0m         \u001b[0;32mif\u001b[0m \u001b[0my\u001b[0m \u001b[0;32mis\u001b[0m \u001b[0;32mnot\u001b[0m \u001b[0;32mNone\u001b[0m\u001b[0;34m:\u001b[0m\u001b[0;34m\u001b[0m\u001b[0;34m\u001b[0m\u001b[0m\n",
      "\u001b[0;32m~/opt/anaconda3/envs/learn-env/lib/python3.6/site-packages/keras/engine/training_utils.py\u001b[0m in \u001b[0;36mstandardize_input_data\u001b[0;34m(data, names, shapes, check_batch_axis, exception_prefix)\u001b[0m\n\u001b[1;32m    143\u001b[0m                             \u001b[0;34m': expected '\u001b[0m \u001b[0;34m+\u001b[0m \u001b[0mnames\u001b[0m\u001b[0;34m[\u001b[0m\u001b[0mi\u001b[0m\u001b[0;34m]\u001b[0m \u001b[0;34m+\u001b[0m \u001b[0;34m' to have shape '\u001b[0m \u001b[0;34m+\u001b[0m\u001b[0;34m\u001b[0m\u001b[0;34m\u001b[0m\u001b[0m\n\u001b[1;32m    144\u001b[0m                             \u001b[0mstr\u001b[0m\u001b[0;34m(\u001b[0m\u001b[0mshape\u001b[0m\u001b[0;34m)\u001b[0m \u001b[0;34m+\u001b[0m \u001b[0;34m' but got array with shape '\u001b[0m \u001b[0;34m+\u001b[0m\u001b[0;34m\u001b[0m\u001b[0;34m\u001b[0m\u001b[0m\n\u001b[0;32m--> 145\u001b[0;31m                             str(data_shape))\n\u001b[0m\u001b[1;32m    146\u001b[0m     \u001b[0;32mreturn\u001b[0m \u001b[0mdata\u001b[0m\u001b[0;34m\u001b[0m\u001b[0;34m\u001b[0m\u001b[0m\n\u001b[1;32m    147\u001b[0m \u001b[0;34m\u001b[0m\u001b[0m\n",
      "\u001b[0;31mValueError\u001b[0m: Error when checking input: expected dense_21_input to have shape (12,) but got array with shape (64,)"
     ]
    }
   ],
   "source": [
    "model = Sequential()\n",
    "\n",
    "n_input = X_train_s.shape[1]\n",
    "\n",
    "model.add(Dense(n_input, input_dim=n_input, activation='relu', kernel_regularizer=regularizers.l2(0.01)))\n",
    "model.add(Dense(10, activation='softmax'))\n",
    "model.compile(optimizer='adam', loss='mean_squared_error')\n",
    "\n",
    "early_stop = EarlyStopping(monitor='val_loss', min_delta=1e-08, patience=0, verbose=1,\n",
    "                           mode='auto')\n",
    "callbacks_list = [early_stop]\n",
    "\n",
    "history = model.fit(X_train, np.array(y_train_c),\n",
    "                        validation_data=(X_test_s, np.array(y_test_c)),\n",
    "                        epochs=30, batch_size=None, callbacks=callbacks_list)"
   ]
  },
  {
   "cell_type": "code",
   "execution_count": null,
   "metadata": {},
   "outputs": [],
   "source": [
    "plt.matshow(data.images[0]);"
   ]
  },
  {
   "cell_type": "code",
   "execution_count": null,
   "metadata": {},
   "outputs": [],
   "source": []
  }
 ],
 "metadata": {
  "kernelspec": {
   "display_name": "Python 3",
   "language": "python",
   "name": "python3"
  },
  "language_info": {
   "codemirror_mode": {
    "name": "ipython",
    "version": 3
   },
   "file_extension": ".py",
   "mimetype": "text/x-python",
   "name": "python",
   "nbconvert_exporter": "python",
   "pygments_lexer": "ipython3",
   "version": "3.6.9"
  }
 },
 "nbformat": 4,
 "nbformat_minor": 4
}
